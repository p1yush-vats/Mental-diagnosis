{
 "cells": [
  {
   "cell_type": "code",
   "execution_count": 23,
   "id": "975fe4a3-a358-4aac-929a-89c08b1b829b",
   "metadata": {},
   "outputs": [
    {
     "ename": "FileNotFoundError",
     "evalue": "[Errno 2] No such file or directory: 'PKLs/rf model.pkl'",
     "output_type": "error",
     "traceback": [
      "\u001b[31m---------------------------------------------------------------------------\u001b[39m",
      "\u001b[31mFileNotFoundError\u001b[39m                         Traceback (most recent call last)",
      "\u001b[36mCell\u001b[39m\u001b[36m \u001b[39m\u001b[32mIn[23]\u001b[39m\u001b[32m, line 3\u001b[39m\n\u001b[32m      1\u001b[39m \u001b[38;5;28;01mimport\u001b[39;00m\u001b[38;5;250m \u001b[39m\u001b[34;01mpickle\u001b[39;00m\n\u001b[32m----> \u001b[39m\u001b[32m3\u001b[39m \u001b[38;5;28;01mwith\u001b[39;00m \u001b[38;5;28;43mopen\u001b[39;49m\u001b[43m(\u001b[49m\u001b[33;43m'\u001b[39;49m\u001b[33;43mPKLs/rf model.pkl\u001b[39;49m\u001b[33;43m'\u001b[39;49m\u001b[43m,\u001b[49m\u001b[43m \u001b[49m\u001b[33;43m'\u001b[39;49m\u001b[33;43mrb\u001b[39;49m\u001b[33;43m'\u001b[39;49m\u001b[43m)\u001b[49m \u001b[38;5;28;01mas\u001b[39;00m f:\n\u001b[32m      4\u001b[39m     saved = pickle.load(f)\n\u001b[32m      6\u001b[39m model = saved[\u001b[33m'\u001b[39m\u001b[33mmodel\u001b[39m\u001b[33m'\u001b[39m]\n",
      "\u001b[36mFile \u001b[39m\u001b[32mX:\\Workshop\\myvenv\\Lib\\site-packages\\IPython\\core\\interactiveshell.py:327\u001b[39m, in \u001b[36m_modified_open\u001b[39m\u001b[34m(file, *args, **kwargs)\u001b[39m\n\u001b[32m    320\u001b[39m \u001b[38;5;28;01mif\u001b[39;00m file \u001b[38;5;129;01min\u001b[39;00m {\u001b[32m0\u001b[39m, \u001b[32m1\u001b[39m, \u001b[32m2\u001b[39m}:\n\u001b[32m    321\u001b[39m     \u001b[38;5;28;01mraise\u001b[39;00m \u001b[38;5;167;01mValueError\u001b[39;00m(\n\u001b[32m    322\u001b[39m         \u001b[33mf\u001b[39m\u001b[33m\"\u001b[39m\u001b[33mIPython won\u001b[39m\u001b[33m'\u001b[39m\u001b[33mt let you open fd=\u001b[39m\u001b[38;5;132;01m{\u001b[39;00mfile\u001b[38;5;132;01m}\u001b[39;00m\u001b[33m by default \u001b[39m\u001b[33m\"\u001b[39m\n\u001b[32m    323\u001b[39m         \u001b[33m\"\u001b[39m\u001b[33mas it is likely to crash IPython. If you know what you are doing, \u001b[39m\u001b[33m\"\u001b[39m\n\u001b[32m    324\u001b[39m         \u001b[33m\"\u001b[39m\u001b[33myou can use builtins\u001b[39m\u001b[33m'\u001b[39m\u001b[33m open.\u001b[39m\u001b[33m\"\u001b[39m\n\u001b[32m    325\u001b[39m     )\n\u001b[32m--> \u001b[39m\u001b[32m327\u001b[39m \u001b[38;5;28;01mreturn\u001b[39;00m \u001b[43mio_open\u001b[49m\u001b[43m(\u001b[49m\u001b[43mfile\u001b[49m\u001b[43m,\u001b[49m\u001b[43m \u001b[49m\u001b[43m*\u001b[49m\u001b[43margs\u001b[49m\u001b[43m,\u001b[49m\u001b[43m \u001b[49m\u001b[43m*\u001b[49m\u001b[43m*\u001b[49m\u001b[43mkwargs\u001b[49m\u001b[43m)\u001b[49m\n",
      "\u001b[31mFileNotFoundError\u001b[39m: [Errno 2] No such file or directory: 'PKLs/rf model.pkl'"
     ]
    }
   ],
   "source": [
    "import pickle\n",
    "\n",
    "with open('PKLs/rf model.pkl', 'rb') as f:\n",
    "    saved = pickle.load(f)\n",
    "\n",
    "model = saved['model']\n",
    "feature_encoders = saved['feature_encoders']\n",
    "target_encoder = saved['target_encoder']\n"
   ]
  },
  {
   "cell_type": "code",
   "execution_count": 16,
   "id": "f9a414bd-297d-49d9-8f14-a0c4a1d6e85f",
   "metadata": {},
   "outputs": [
    {
     "name": "stdout",
     "output_type": "stream",
     "text": [
      "🔍 Target Classes: ['Extremely Severe' 'Mild Depression' 'Moderate Depression'\n",
      " 'Severe Depression']\n"
     ]
    }
   ],
   "source": [
    "print(\"🔍 Target Classes:\", target_encoder.classes_)\n"
   ]
  },
  {
   "cell_type": "code",
   "execution_count": 17,
   "id": "5246091e-289b-4b9b-8a24-c5cf0991a66f",
   "metadata": {},
   "outputs": [
    {
     "name": "stdout",
     "output_type": "stream",
     "text": [
      "\n",
      "🔍 Feature: Sleep\n",
      "  0 ➝ 3–5 hours\n",
      "  1 ➝ 5–7 hours\n",
      "  2 ➝ 7–9 hours\n",
      "  3 ➝ Less than 3 hours\n",
      "  4 ➝ More than 9 hours\n",
      "\n",
      "🔍 Feature: Appetite\n",
      "  0 ➝ No change\n",
      "  1 ➝ Significantly decreased\n",
      "  2 ➝ Significantly increased\n",
      "  3 ➝ Slightly decreased\n",
      "  4 ➝ Slightly increased\n",
      "\n",
      "🔍 Feature: Interest\n",
      "  0 ➝ I feel completely disengaged and indifferent to my activities\n",
      "  1 ➝ I notice a dulling of interest sometimes\n",
      "  2 ➝ I rarely feel motivated or interested anymore\n",
      "  3 ➝ I still find joy in my activities\n",
      "  4 ➝ Lately, I’ve been feeling disconnected from what I used to enjoy\n",
      "\n",
      "🔍 Feature: Fatigue\n",
      "  0 ➝ I am frequently exhausted and struggle to get through the day\n",
      "  1 ➝ I feel energized and capable most of the time\n",
      "  2 ➝ I often feel overwhelmed by exhaustion\n",
      "  3 ➝ I sometimes feel drained but manage\n",
      "  4 ➝ Lately, fatigue has been a persistent challenge for me\n",
      "\n",
      "🔍 Feature: Worthlessness\n",
      "  0 ➝ I frequently feel like a failure and question my worth\n",
      "  1 ➝ I generally feel confident and worthwhile\n",
      "  2 ➝ I occasionally doubt myself\n",
      "  3 ➝ I often struggle with feelings of worthlessness\n",
      "  4 ➝ Lately, negative feelings about myself have increased\n",
      "\n",
      "🔍 Feature: Concentration\n",
      "  0 ➝ Concentration is almost impossible, and I feel overwhelmed\n",
      "  1 ➝ Distractions sometimes interfere with my focus\n",
      "  2 ➝ I focus easily and stay engaged\n",
      "  3 ➝ I often feel overwhelmed and unable to focus\n",
      "  4 ➝ Lately, maintaining concentration has been challenging\n",
      "\n",
      "🔍 Feature: Agitation\n",
      "  0 ➝ I am frequently overwhelmed by restlessness and agitation\n",
      "  1 ➝ I feel calm and settled\n",
      "  2 ➝ I often feel anxious, restless, or unable to stay still\n",
      "  3 ➝ I sometimes feel restless or fidgety\n",
      "  4 ➝ Lately, I’ve been feeling more restless than usual\n",
      "\n",
      "🔍 Feature: Suicidal Ideation\n",
      "  0 ➝ Almost every week\n",
      "  1 ➝ Every now and then\n",
      "  2 ➝ Never\n",
      "  3 ➝ Once in a blue moon\n",
      "  4 ➝ Pretty much daily\n",
      "\n",
      "🔍 Feature: Sleep Disturbance\n",
      "  0 ➝ Almost every night is a struggle\n",
      "  1 ➝ Barely sleep at all anymore\n",
      "  2 ➝ Occasionally toss and turn\n",
      "  3 ➝ Restless some nights\n",
      "  4 ➝ Sleep like a baby\n",
      "\n",
      "🔍 Feature: Aggression\n",
      "  0 ➝ A little irritated sometimes\n",
      "  1 ➝ Angry almost every day\n",
      "  2 ➝ Feel angry quite often\n",
      "  3 ➝ Get angry once in a while\n",
      "  4 ➝ Very calm\n",
      "\n",
      "🔍 Feature: Panic Attacks\n",
      "  0 ➝ Almost every day, out of nowhere\n",
      "  1 ➝ Never happens\n",
      "  2 ➝ Often, it catches me off guard\n",
      "  3 ➝ Rarely, maybe once or twice\n",
      "  4 ➝ Sometimes, depends on the day\n",
      "\n",
      "🔍 Feature: Hopelessness\n",
      "  0 ➝ Almost never – I usually feel hopeful\n",
      "  1 ➝ Always – I feel hopeless every day\n",
      "  2 ➝ Most of the time – I feel things won’t improve\n",
      "  3 ➝ Often – I lose hope quite a bit\n",
      "  4 ➝ Sometimes – I feel stuck now and then\n",
      "\n",
      "🔍 Feature: Restlessness\n",
      "  0 ➝ I constantly feel uneasy or on edge\n",
      "  1 ➝ I do notice it from time to time\n",
      "  2 ➝ I feel calm most of the time\n",
      "  3 ➝ It happens, but not often\n",
      "  4 ➝ find it hard to stay still or feel settled\n",
      "\n",
      "🔍 Feature: Low Energy\n",
      "  0 ➝ I frequently feel completely exhausted and incapable of doing what I need to\n",
      "  1 ➝ I often struggle with low energy, making daily activities difficult\n",
      "  2 ➝ I sometimes feel a bit tired, but it doesn't affect me much\n",
      "  3 ➝ I usually feel energized and motivated throughout the day\n",
      "  4 ➝ Lately, I’ve been feeling noticeably drained and sluggish\n",
      "\n",
      "🔍 Feature: Depression State\n",
      "  0 ➝ Extremely Severe\n",
      "  1 ➝ Mild Depression\n",
      "  2 ➝ Moderate Depression\n",
      "  3 ➝ Severe Depression\n"
     ]
    }
   ],
   "source": [
    "for feature, encoder in feature_encoders.items():\n",
    "    print(f\"\\n🔍 Feature: {feature}\")\n",
    "    for idx, label in enumerate(encoder.classes_):\n",
    "        print(f\"  {idx} ➝ {label}\")\n"
   ]
  },
  {
   "cell_type": "code",
   "execution_count": 22,
   "id": "83e59af9-6b68-4038-b01f-e0ee04162940",
   "metadata": {},
   "outputs": [],
   "source": [
    "# user survey answers to help predict\n",
    "\n",
    "\n",
    "user_input = {\n",
    "  \"Sleep\": \"5–7 hours\",\n",
    "  \"Appetite\": \"Slightly decreased\",\n",
    "  \"Interest\": \"I rarely feel motivated or interested anymore\",\n",
    "  \"Fatigue\": \"Lately, fatigue has been a persistent challenge for me\",\n",
    "  \"Worthlessness\": \"I often struggle with feelings of worthlessness\",\n",
    "  \"Concentration\": \"Lately, maintaining concentration has been challenging\",\n",
    "  \"Agitation\": \"I often feel anxious, restless, or unable to stay still\",\n",
    "  \"Suicidal Ideation\": \"Almost every week\",\n",
    "  \"Sleep Disturbance\": \"Restless some nights\",\n",
    "  \"Aggression\": \"Get angry once in a while\",\n",
    "  \"Panic Attacks\": \"Sometimes, depends on the day\",\n",
    "  \"Hopelessness\": \"Often – I lose hope quite a bit\",\n",
    "  \"Restlessness\": \"find it hard to stay still or feel settled\",\n",
    "  \"Low Energy\": \"I frequently feel completely exhausted and incapable of doing what I need to\"\n",
    "}\n"
   ]
  },
  {
   "cell_type": "code",
   "execution_count": 20,
   "id": "92000fc9-7d90-4ed0-a29f-ad81c6f28070",
   "metadata": {},
   "outputs": [
    {
     "name": "stdout",
     "output_type": "stream",
     "text": [
      "💡 Predicted Depression State: Severe Depression\n",
      "🧠 Meaning: 😞 Severe depression – seek help immediately\n"
     ]
    }
   ],
   "source": [
    "\n",
    "encoded_input = {\n",
    "    feature: feature_encoders[feature].transform([user_input[feature]])[0]\n",
    "    for feature in user_input\n",
    "}\n",
    "\n",
    "\n",
    "input_df = pd.DataFrame([encoded_input])\n",
    "\n",
    "\n",
    "prediction = model.predict(input_df)\n",
    "\n",
    "\n",
    "predicted_label = target_encoder.inverse_transform(prediction)[0]\n",
    "\n",
    "label_to_description = {\n",
    "    \"Mild Depression\": \"😐 Mild symptoms, watchful monitoring advised\",\n",
    "    \"Moderate Depression\": \"😟 Moderate signs, consider talking to a mental health professional\",\n",
    "    \"Severe Depression\": \"😞 Severe depression – seek help immediately\",\n",
    "    \"Extremely Severe\": \"🚨 Extreme severity – seek immediate help\"\n",
    "}\n",
    "\n",
    "# Final output\n",
    "print(\"💡 Predicted Depression State:\", predicted_label)\n",
    "print(\"🧠 Meaning:\", label_to_description.get(predicted_label, \"Unknown\"))\n"
   ]
  }
 ],
 "metadata": {
  "kernelspec": {
   "display_name": "Python 3 (ipykernel)",
   "language": "python",
   "name": "python3"
  },
  "language_info": {
   "codemirror_mode": {
    "name": "ipython",
    "version": 3
   },
   "file_extension": ".py",
   "mimetype": "text/x-python",
   "name": "python",
   "nbconvert_exporter": "python",
   "pygments_lexer": "ipython3",
   "version": "3.12.7"
  }
 },
 "nbformat": 4,
 "nbformat_minor": 5
}
