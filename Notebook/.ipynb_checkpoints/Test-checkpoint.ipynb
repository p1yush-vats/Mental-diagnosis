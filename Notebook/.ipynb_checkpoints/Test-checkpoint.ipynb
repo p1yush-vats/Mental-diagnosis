{
 "cells": [
  {
   "cell_type": "code",
   "execution_count": 1,
   "id": "975fe4a3-a358-4aac-929a-89c08b1b829b",
   "metadata": {},
   "outputs": [],
   "source": [
    "import pickle\n",
    "\n",
    "with open('../PKLs/rf model.pkl', 'rb') as f:\n",
    "    saved = pickle.load(f)\n",
    "\n",
    "model = saved['model']\n",
    "feature_encoders = saved['feature_encoders']\n",
    "target_encoder = saved['target_encoder']\n"
   ]
  },
  {
   "cell_type": "code",
   "execution_count": 2,
   "id": "f9a414bd-297d-49d9-8f14-a0c4a1d6e85f",
   "metadata": {},
   "outputs": [
    {
     "name": "stdout",
     "output_type": "stream",
     "text": [
      "🔍 Target Classes: ['Extremely Severe' 'Mild Depression' 'Moderate Depression'\n",
      " 'Severe Depression']\n"
     ]
    }
   ],
   "source": [
    "print(\"🔍 Target Classes:\", target_encoder.classes_)\n"
   ]
  },
  {
   "cell_type": "code",
   "execution_count": 17,
   "id": "5246091e-289b-4b9b-8a24-c5cf0991a66f",
   "metadata": {},
   "outputs": [
    {
     "name": "stdout",
     "output_type": "stream",
     "text": [
      "\n",
      "🔍 Feature: Sleep\n",
      "  0 ➝ 3–5 hours\n",
      "  1 ➝ 5–7 hours\n",
      "  2 ➝ 7–9 hours\n",
      "  3 ➝ Less than 3 hours\n",
      "  4 ➝ More than 9 hours\n",
      "\n",
      "🔍 Feature: Appetite\n",
      "  0 ➝ No change\n",
      "  1 ➝ Significantly decreased\n",
      "  2 ➝ Significantly increased\n",
      "  3 ➝ Slightly decreased\n",
      "  4 ➝ Slightly increased\n",
      "\n",
      "🔍 Feature: Interest\n",
      "  0 ➝ I feel completely disengaged and indifferent to my activities\n",
      "  1 ➝ I notice a dulling of interest sometimes\n",
      "  2 ➝ I rarely feel motivated or interested anymore\n",
      "  3 ➝ I still find joy in my activities\n",
      "  4 ➝ Lately, I’ve been feeling disconnected from what I used to enjoy\n",
      "\n",
      "🔍 Feature: Fatigue\n",
      "  0 ➝ I am frequently exhausted and struggle to get through the day\n",
      "  1 ➝ I feel energized and capable most of the time\n",
      "  2 ➝ I often feel overwhelmed by exhaustion\n",
      "  3 ➝ I sometimes feel drained but manage\n",
      "  4 ➝ Lately, fatigue has been a persistent challenge for me\n",
      "\n",
      "🔍 Feature: Worthlessness\n",
      "  0 ➝ I frequently feel like a failure and question my worth\n",
      "  1 ➝ I generally feel confident and worthwhile\n",
      "  2 ➝ I occasionally doubt myself\n",
      "  3 ➝ I often struggle with feelings of worthlessness\n",
      "  4 ➝ Lately, negative feelings about myself have increased\n",
      "\n",
      "🔍 Feature: Concentration\n",
      "  0 ➝ Concentration is almost impossible, and I feel overwhelmed\n",
      "  1 ➝ Distractions sometimes interfere with my focus\n",
      "  2 ➝ I focus easily and stay engaged\n",
      "  3 ➝ I often feel overwhelmed and unable to focus\n",
      "  4 ➝ Lately, maintaining concentration has been challenging\n",
      "\n",
      "🔍 Feature: Agitation\n",
      "  0 ➝ I am frequently overwhelmed by restlessness and agitation\n",
      "  1 ➝ I feel calm and settled\n",
      "  2 ➝ I often feel anxious, restless, or unable to stay still\n",
      "  3 ➝ I sometimes feel restless or fidgety\n",
      "  4 ➝ Lately, I’ve been feeling more restless than usual\n",
      "\n",
      "🔍 Feature: Suicidal Ideation\n",
      "  0 ➝ Almost every week\n",
      "  1 ➝ Every now and then\n",
      "  2 ➝ Never\n",
      "  3 ➝ Once in a blue moon\n",
      "  4 ➝ Pretty much daily\n",
      "\n",
      "🔍 Feature: Sleep Disturbance\n",
      "  0 ➝ Almost every night is a struggle\n",
      "  1 ➝ Barely sleep at all anymore\n",
      "  2 ➝ Occasionally toss and turn\n",
      "  3 ➝ Restless some nights\n",
      "  4 ➝ Sleep like a baby\n",
      "\n",
      "🔍 Feature: Aggression\n",
      "  0 ➝ A little irritated sometimes\n",
      "  1 ➝ Angry almost every day\n",
      "  2 ➝ Feel angry quite often\n",
      "  3 ➝ Get angry once in a while\n",
      "  4 ➝ Very calm\n",
      "\n",
      "🔍 Feature: Panic Attacks\n",
      "  0 ➝ Almost every day, out of nowhere\n",
      "  1 ➝ Never happens\n",
      "  2 ➝ Often, it catches me off guard\n",
      "  3 ➝ Rarely, maybe once or twice\n",
      "  4 ➝ Sometimes, depends on the day\n",
      "\n",
      "🔍 Feature: Hopelessness\n",
      "  0 ➝ Almost never – I usually feel hopeful\n",
      "  1 ➝ Always – I feel hopeless every day\n",
      "  2 ➝ Most of the time – I feel things won’t improve\n",
      "  3 ➝ Often – I lose hope quite a bit\n",
      "  4 ➝ Sometimes – I feel stuck now and then\n",
      "\n",
      "🔍 Feature: Restlessness\n",
      "  0 ➝ I constantly feel uneasy or on edge\n",
      "  1 ➝ I do notice it from time to time\n",
      "  2 ➝ I feel calm most of the time\n",
      "  3 ➝ It happens, but not often\n",
      "  4 ➝ find it hard to stay still or feel settled\n",
      "\n",
      "🔍 Feature: Low Energy\n",
      "  0 ➝ I frequently feel completely exhausted and incapable of doing what I need to\n",
      "  1 ➝ I often struggle with low energy, making daily activities difficult\n",
      "  2 ➝ I sometimes feel a bit tired, but it doesn't affect me much\n",
      "  3 ➝ I usually feel energized and motivated throughout the day\n",
      "  4 ➝ Lately, I’ve been feeling noticeably drained and sluggish\n",
      "\n",
      "🔍 Feature: Depression State\n",
      "  0 ➝ Extremely Severe\n",
      "  1 ➝ Mild Depression\n",
      "  2 ➝ Moderate Depression\n",
      "  3 ➝ Severe Depression\n"
     ]
    }
   ],
   "source": [
    "for feature, encoder in feature_encoders.items():\n",
    "    print(f\"\\n🔍 Feature: {feature}\")\n",
    "    for idx, label in enumerate(encoder.classes_):\n",
    "        print(f\"  {idx} ➝ {label}\")\n"
   ]
  },
  {
   "cell_type": "code",
   "execution_count": 2,
   "id": "83e59af9-6b68-4038-b01f-e0ee04162940",
   "metadata": {},
   "outputs": [],
   "source": [
    "user_input = {\n",
    "  \"Sleep\": \"5–7 hours\",\n",
    "  \"Appetite\": \"Slightly decreased\",\n",
    "  \"Interest\": \"I rarely feel motivated or interested anymore\",\n",
    "  \"Fatigue\": \"Lately, fatigue has been a persistent challenge for me\",\n",
    "  \"Worthlessness\": \"I often struggle with feelings of worthlessness\",\n",
    "  \"Concentration\": \"Lately, maintaining concentration has been challenging\",\n",
    "  \"Agitation\": \"I often feel anxious, restless, or unable to stay still\",\n",
    "  \"Suicidal Ideation\": \"Almost every week\",\n",
    "  \"Sleep Disturbance\": \"Restless some nights\",\n",
    "  \"Aggression\": \"Get angry once in a while\",\n",
    "  \"Panic Attacks\": \"Sometimes, depends on the day\",\n",
    "  \"Hopelessness\": \"Often – I lose hope quite a bit\",\n",
    "  \"Restlessness\": \"find it hard to stay still or feel settled\",\n",
    "  \"Low Energy\": \"I frequently feel completely exhausted and incapable of doing what I need to\"\n",
    "}\n"
   ]
  },
  {
   "cell_type": "code",
   "execution_count": 19,
   "id": "92000fc9-7d90-4ed0-a29f-ad81c6f28070",
   "metadata": {},
   "outputs": [
    {
     "name": "stderr",
     "output_type": "stream",
     "text": [
      "X:\\Workshop\\myvenv\\Lib\\site-packages\\sklearn\\utils\\validation.py:2749: UserWarning: X does not have valid feature names, but RandomForestClassifier was fitted with feature names\n",
      "  warnings.warn(\n"
     ]
    },
    {
     "ename": "TypeError",
     "evalue": "float() argument must be a string or a real number, not 'dict'",
     "output_type": "error",
     "traceback": [
      "\u001b[31m---------------------------------------------------------------------------\u001b[39m",
      "\u001b[31mTypeError\u001b[39m                                 Traceback (most recent call last)",
      "\u001b[36mCell\u001b[39m\u001b[36m \u001b[39m\u001b[32mIn[19]\u001b[39m\u001b[32m, line 2\u001b[39m\n\u001b[32m      1\u001b[39m \u001b[38;5;66;03m# Predict as usual\u001b[39;00m\n\u001b[32m----> \u001b[39m\u001b[32m2\u001b[39m prediction = \u001b[43mmodel\u001b[49m\u001b[43m.\u001b[49m\u001b[43mpredict\u001b[49m\u001b[43m(\u001b[49m\u001b[43muser_input\u001b[49m\u001b[43m)\u001b[49m\n\u001b[32m      4\u001b[39m \u001b[38;5;66;03m# Decode numeric result into label\u001b[39;00m\n\u001b[32m      5\u001b[39m predicted_label = target_encoder.inverse_transform(prediction)[\u001b[32m0\u001b[39m]\n",
      "\u001b[36mFile \u001b[39m\u001b[32mX:\\Workshop\\myvenv\\Lib\\site-packages\\sklearn\\ensemble\\_forest.py:903\u001b[39m, in \u001b[36mForestClassifier.predict\u001b[39m\u001b[34m(self, X)\u001b[39m\n\u001b[32m    882\u001b[39m \u001b[38;5;28;01mdef\u001b[39;00m\u001b[38;5;250m \u001b[39m\u001b[34mpredict\u001b[39m(\u001b[38;5;28mself\u001b[39m, X):\n\u001b[32m    883\u001b[39m \u001b[38;5;250m    \u001b[39m\u001b[33;03m\"\"\"\u001b[39;00m\n\u001b[32m    884\u001b[39m \u001b[33;03m    Predict class for X.\u001b[39;00m\n\u001b[32m    885\u001b[39m \n\u001b[32m   (...)\u001b[39m\u001b[32m    901\u001b[39m \u001b[33;03m        The predicted classes.\u001b[39;00m\n\u001b[32m    902\u001b[39m \u001b[33;03m    \"\"\"\u001b[39;00m\n\u001b[32m--> \u001b[39m\u001b[32m903\u001b[39m     proba = \u001b[38;5;28;43mself\u001b[39;49m\u001b[43m.\u001b[49m\u001b[43mpredict_proba\u001b[49m\u001b[43m(\u001b[49m\u001b[43mX\u001b[49m\u001b[43m)\u001b[49m\n\u001b[32m    905\u001b[39m     \u001b[38;5;28;01mif\u001b[39;00m \u001b[38;5;28mself\u001b[39m.n_outputs_ == \u001b[32m1\u001b[39m:\n\u001b[32m    906\u001b[39m         \u001b[38;5;28;01mreturn\u001b[39;00m \u001b[38;5;28mself\u001b[39m.classes_.take(np.argmax(proba, axis=\u001b[32m1\u001b[39m), axis=\u001b[32m0\u001b[39m)\n",
      "\u001b[36mFile \u001b[39m\u001b[32mX:\\Workshop\\myvenv\\Lib\\site-packages\\sklearn\\ensemble\\_forest.py:945\u001b[39m, in \u001b[36mForestClassifier.predict_proba\u001b[39m\u001b[34m(self, X)\u001b[39m\n\u001b[32m    943\u001b[39m check_is_fitted(\u001b[38;5;28mself\u001b[39m)\n\u001b[32m    944\u001b[39m \u001b[38;5;66;03m# Check data\u001b[39;00m\n\u001b[32m--> \u001b[39m\u001b[32m945\u001b[39m X = \u001b[38;5;28;43mself\u001b[39;49m\u001b[43m.\u001b[49m\u001b[43m_validate_X_predict\u001b[49m\u001b[43m(\u001b[49m\u001b[43mX\u001b[49m\u001b[43m)\u001b[49m\n\u001b[32m    947\u001b[39m \u001b[38;5;66;03m# Assign chunk of trees to jobs\u001b[39;00m\n\u001b[32m    948\u001b[39m n_jobs, _, _ = _partition_estimators(\u001b[38;5;28mself\u001b[39m.n_estimators, \u001b[38;5;28mself\u001b[39m.n_jobs)\n",
      "\u001b[36mFile \u001b[39m\u001b[32mX:\\Workshop\\myvenv\\Lib\\site-packages\\sklearn\\ensemble\\_forest.py:637\u001b[39m, in \u001b[36mBaseForest._validate_X_predict\u001b[39m\u001b[34m(self, X)\u001b[39m\n\u001b[32m    634\u001b[39m \u001b[38;5;28;01melse\u001b[39;00m:\n\u001b[32m    635\u001b[39m     ensure_all_finite = \u001b[38;5;28;01mTrue\u001b[39;00m\n\u001b[32m--> \u001b[39m\u001b[32m637\u001b[39m X = \u001b[43mvalidate_data\u001b[49m\u001b[43m(\u001b[49m\n\u001b[32m    638\u001b[39m \u001b[43m    \u001b[49m\u001b[38;5;28;43mself\u001b[39;49m\u001b[43m,\u001b[49m\n\u001b[32m    639\u001b[39m \u001b[43m    \u001b[49m\u001b[43mX\u001b[49m\u001b[43m,\u001b[49m\n\u001b[32m    640\u001b[39m \u001b[43m    \u001b[49m\u001b[43mdtype\u001b[49m\u001b[43m=\u001b[49m\u001b[43mDTYPE\u001b[49m\u001b[43m,\u001b[49m\n\u001b[32m    641\u001b[39m \u001b[43m    \u001b[49m\u001b[43maccept_sparse\u001b[49m\u001b[43m=\u001b[49m\u001b[33;43m\"\u001b[39;49m\u001b[33;43mcsr\u001b[39;49m\u001b[33;43m\"\u001b[39;49m\u001b[43m,\u001b[49m\n\u001b[32m    642\u001b[39m \u001b[43m    \u001b[49m\u001b[43mreset\u001b[49m\u001b[43m=\u001b[49m\u001b[38;5;28;43;01mFalse\u001b[39;49;00m\u001b[43m,\u001b[49m\n\u001b[32m    643\u001b[39m \u001b[43m    \u001b[49m\u001b[43mensure_all_finite\u001b[49m\u001b[43m=\u001b[49m\u001b[43mensure_all_finite\u001b[49m\u001b[43m,\u001b[49m\n\u001b[32m    644\u001b[39m \u001b[43m\u001b[49m\u001b[43m)\u001b[49m\n\u001b[32m    645\u001b[39m \u001b[38;5;28;01mif\u001b[39;00m issparse(X) \u001b[38;5;129;01mand\u001b[39;00m (X.indices.dtype != np.intc \u001b[38;5;129;01mor\u001b[39;00m X.indptr.dtype != np.intc):\n\u001b[32m    646\u001b[39m     \u001b[38;5;28;01mraise\u001b[39;00m \u001b[38;5;167;01mValueError\u001b[39;00m(\u001b[33m\"\u001b[39m\u001b[33mNo support for np.int64 index based sparse matrices\u001b[39m\u001b[33m\"\u001b[39m)\n",
      "\u001b[36mFile \u001b[39m\u001b[32mX:\\Workshop\\myvenv\\Lib\\site-packages\\sklearn\\utils\\validation.py:2954\u001b[39m, in \u001b[36mvalidate_data\u001b[39m\u001b[34m(_estimator, X, y, reset, validate_separately, skip_check_array, **check_params)\u001b[39m\n\u001b[32m   2952\u001b[39m         out = X, y\n\u001b[32m   2953\u001b[39m \u001b[38;5;28;01melif\u001b[39;00m \u001b[38;5;129;01mnot\u001b[39;00m no_val_X \u001b[38;5;129;01mand\u001b[39;00m no_val_y:\n\u001b[32m-> \u001b[39m\u001b[32m2954\u001b[39m     out = \u001b[43mcheck_array\u001b[49m\u001b[43m(\u001b[49m\u001b[43mX\u001b[49m\u001b[43m,\u001b[49m\u001b[43m \u001b[49m\u001b[43minput_name\u001b[49m\u001b[43m=\u001b[49m\u001b[33;43m\"\u001b[39;49m\u001b[33;43mX\u001b[39;49m\u001b[33;43m\"\u001b[39;49m\u001b[43m,\u001b[49m\u001b[43m \u001b[49m\u001b[43m*\u001b[49m\u001b[43m*\u001b[49m\u001b[43mcheck_params\u001b[49m\u001b[43m)\u001b[49m\n\u001b[32m   2955\u001b[39m \u001b[38;5;28;01melif\u001b[39;00m no_val_X \u001b[38;5;129;01mand\u001b[39;00m \u001b[38;5;129;01mnot\u001b[39;00m no_val_y:\n\u001b[32m   2956\u001b[39m     out = _check_y(y, **check_params)\n",
      "\u001b[36mFile \u001b[39m\u001b[32mX:\\Workshop\\myvenv\\Lib\\site-packages\\sklearn\\utils\\validation.py:1053\u001b[39m, in \u001b[36mcheck_array\u001b[39m\u001b[34m(array, accept_sparse, accept_large_sparse, dtype, order, copy, force_writeable, force_all_finite, ensure_all_finite, ensure_non_negative, ensure_2d, allow_nd, ensure_min_samples, ensure_min_features, estimator, input_name)\u001b[39m\n\u001b[32m   1051\u001b[39m         array = xp.astype(array, dtype, copy=\u001b[38;5;28;01mFalse\u001b[39;00m)\n\u001b[32m   1052\u001b[39m     \u001b[38;5;28;01melse\u001b[39;00m:\n\u001b[32m-> \u001b[39m\u001b[32m1053\u001b[39m         array = \u001b[43m_asarray_with_order\u001b[49m\u001b[43m(\u001b[49m\u001b[43marray\u001b[49m\u001b[43m,\u001b[49m\u001b[43m \u001b[49m\u001b[43morder\u001b[49m\u001b[43m=\u001b[49m\u001b[43morder\u001b[49m\u001b[43m,\u001b[49m\u001b[43m \u001b[49m\u001b[43mdtype\u001b[49m\u001b[43m=\u001b[49m\u001b[43mdtype\u001b[49m\u001b[43m,\u001b[49m\u001b[43m \u001b[49m\u001b[43mxp\u001b[49m\u001b[43m=\u001b[49m\u001b[43mxp\u001b[49m\u001b[43m)\u001b[49m\n\u001b[32m   1054\u001b[39m \u001b[38;5;28;01mexcept\u001b[39;00m ComplexWarning \u001b[38;5;28;01mas\u001b[39;00m complex_warning:\n\u001b[32m   1055\u001b[39m     \u001b[38;5;28;01mraise\u001b[39;00m \u001b[38;5;167;01mValueError\u001b[39;00m(\n\u001b[32m   1056\u001b[39m         \u001b[33m\"\u001b[39m\u001b[33mComplex data not supported\u001b[39m\u001b[38;5;130;01m\\n\u001b[39;00m\u001b[38;5;132;01m{}\u001b[39;00m\u001b[38;5;130;01m\\n\u001b[39;00m\u001b[33m\"\u001b[39m.format(array)\n\u001b[32m   1057\u001b[39m     ) \u001b[38;5;28;01mfrom\u001b[39;00m\u001b[38;5;250m \u001b[39m\u001b[34;01mcomplex_warning\u001b[39;00m\n",
      "\u001b[36mFile \u001b[39m\u001b[32mX:\\Workshop\\myvenv\\Lib\\site-packages\\sklearn\\utils\\_array_api.py:757\u001b[39m, in \u001b[36m_asarray_with_order\u001b[39m\u001b[34m(array, dtype, order, copy, xp, device)\u001b[39m\n\u001b[32m    755\u001b[39m     array = numpy.array(array, order=order, dtype=dtype)\n\u001b[32m    756\u001b[39m \u001b[38;5;28;01melse\u001b[39;00m:\n\u001b[32m--> \u001b[39m\u001b[32m757\u001b[39m     array = \u001b[43mnumpy\u001b[49m\u001b[43m.\u001b[49m\u001b[43masarray\u001b[49m\u001b[43m(\u001b[49m\u001b[43marray\u001b[49m\u001b[43m,\u001b[49m\u001b[43m \u001b[49m\u001b[43morder\u001b[49m\u001b[43m=\u001b[49m\u001b[43morder\u001b[49m\u001b[43m,\u001b[49m\u001b[43m \u001b[49m\u001b[43mdtype\u001b[49m\u001b[43m=\u001b[49m\u001b[43mdtype\u001b[49m\u001b[43m)\u001b[49m\n\u001b[32m    759\u001b[39m \u001b[38;5;66;03m# At this point array is a NumPy ndarray. We convert it to an array\u001b[39;00m\n\u001b[32m    760\u001b[39m \u001b[38;5;66;03m# container that is consistent with the input's namespace.\u001b[39;00m\n\u001b[32m    761\u001b[39m \u001b[38;5;28;01mreturn\u001b[39;00m xp.asarray(array)\n",
      "\u001b[31mTypeError\u001b[39m: float() argument must be a string or a real number, not 'dict'"
     ]
    }
   ],
   "source": [
    "# Encode features using saved encoders\n",
    "encoded_input = {\n",
    "    feature: feature_encoders[feature].transform([user_input[feature]])[0]\n",
    "    for feature in user_input\n",
    "}\n",
    "\n",
    "# Predict\n",
    "import pandas as pd\n",
    "input_df = pd.DataFrame([encoded_input])\n",
    "prediction = model.predict(input_df)\n",
    "\n",
    "# Decode label using target encoder\n",
    "if hasattr(target_encoder, 'inverse_transform'):\n",
    "    predicted_label = target_encoder.inverse_transform([prediction[0]])[0]\n",
    "else:\n",
    "    predicted_label = prediction[0]  # Fallback if encoder not loaded properly\n",
    "\n",
    "# Friendly explanation\n",
    "label_to_description = {\n",
    "    \"No Depression\": \"🙂 No signs of depression\",\n",
    "    \"Mild Depression\": \"😐 Mild symptoms, watchful monitoring advised\",\n",
    "    \"Moderate Depression\": \"😟 Moderate signs, consider talking to a mental health professional\",\n",
    "    \"Severe Depression\": \"😞 Severe depression – seek help immediately\"\n",
    "}\n",
    "\n",
    "predicted_description = label_to_description.get(predicted_label, \"Unknown\")\n",
    "\n",
    "# Output\n",
    "print(\"💡 Predicted Depression State:\", predicted_label)\n",
    "print(\"🧠 Meaning:\", predicted_description)\n"
   ]
  },
  {
   "cell_type": "code",
   "execution_count": 5,
   "id": "f020160a-cc67-4e89-a323-8d17a0b922d5",
   "metadata": {},
   "outputs": [
    {
     "name": "stdout",
     "output_type": "stream",
     "text": [
      "[0 1 2 3]\n"
     ]
    }
   ],
   "source": []
  },
  {
   "cell_type": "code",
   "execution_count": 9,
   "id": "53dd0f6a-c38e-4915-a31d-cf6c2df371eb",
   "metadata": {},
   "outputs": [
    {
     "ename": "AttributeError",
     "evalue": "'dict' object has no attribute 'classes_'",
     "output_type": "error",
     "traceback": [
      "\u001b[31m---------------------------------------------------------------------------\u001b[39m",
      "\u001b[31mAttributeError\u001b[39m                            Traceback (most recent call last)",
      "\u001b[36mCell\u001b[39m\u001b[36m \u001b[39m\u001b[32mIn[9]\u001b[39m\u001b[32m, line 1\u001b[39m\n\u001b[32m----> \u001b[39m\u001b[32m1\u001b[39m \u001b[38;5;28mprint\u001b[39m(\u001b[43mfeature_encoders\u001b[49m\u001b[43m.\u001b[49m\u001b[43mclasses_\u001b[49m)  \n\u001b[32m      2\u001b[39m \u001b[38;5;66;03m# Should be: ['Mild Depression', 'Moderate Depression', 'No Depression', 'Severe Depression']\u001b[39;00m\n",
      "\u001b[31mAttributeError\u001b[39m: 'dict' object has no attribute 'classes_'"
     ]
    }
   ],
   "source": [
    "print(feature_encoders.classes_)  \n",
    "# Should be: ['Mild Depression', 'Moderate Depression', 'No Depression', 'Severe Depression']\n"
   ]
  },
  {
   "cell_type": "code",
   "execution_count": null,
   "id": "4e599d0d-f418-408a-9d67-fafdc93e25b3",
   "metadata": {},
   "outputs": [],
   "source": []
  }
 ],
 "metadata": {
  "kernelspec": {
   "display_name": "Python 3 (ipykernel)",
   "language": "python",
   "name": "python3"
  },
  "language_info": {
   "codemirror_mode": {
    "name": "ipython",
    "version": 3
   },
   "file_extension": ".py",
   "mimetype": "text/x-python",
   "name": "python",
   "nbconvert_exporter": "python",
   "pygments_lexer": "ipython3",
   "version": "3.12.7"
  }
 },
 "nbformat": 4,
 "nbformat_minor": 5
}
